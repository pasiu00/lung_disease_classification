{
 "cells": [
  {
   "cell_type": "code",
   "execution_count": 11,
   "metadata": {},
   "outputs": [],
   "source": [
    "import os\n",
    "import zipfile\n",
    "import numpy as np\n",
    "import tensorflow as tf\n",
    "from tensorflow.keras import layers, models\n",
    "from tensorflow.keras.preprocessing.image import ImageDataGenerator\n",
    "from sklearn.metrics import balanced_accuracy_score\n",
    "from sklearn.model_selection import train_test_split\n"
   ]
  },
  {
   "cell_type": "code",
   "execution_count": null,
   "metadata": {},
   "outputs": [],
   "source": [
    "# Kaggle dataset downloading and extracting\n",
    "os.environ[\"KAGGLE_USERNAME\"] = \"bartoszpa\"\n",
    "os.environ[\"KAGGLE_KEY\"] = \"2aa9f256d6b11081fe8bbc01dce8b211\"\n",
    "\n",
    "!kaggle datasets download -d paultimothymooney/chest-xray-pneumonia\n",
    "\n",
    "with zipfile.ZipFile(\"chest-xray-pneumonia.zip\", \"r\") as zip_ref:\n",
    "    zip_ref.extractall(\"dataset\")"
   ]
  },
  {
   "cell_type": "code",
   "execution_count": 14,
   "metadata": {},
   "outputs": [],
   "source": [
    "train_path = \"C:/Users/Bartek/Desktop/STUDIA/magister/dataset/chest_xray/train\"\n",
    "test_path = \"C:/Users/Bartek/Desktop/STUDIA/magister/dataset/chest_xray/test\"\n",
    "\n",
    "# Function to load and preprocess images\n",
    "def load_and_preprocess_data(data_path, label):\n",
    "    images = []\n",
    "    labels = []\n",
    "    for filename in os.listdir(data_path):\n",
    "        img_path = os.path.join(data_path, filename)\n",
    "        img = tf.keras.preprocessing.image.load_img(img_path, target_size=(128, 128))\n",
    "        img_array = tf.keras.preprocessing.image.img_to_array(img)\n",
    "        images.append(img_array)\n",
    "        labels.append(label)\n",
    "    return np.array(images), np.array(labels)"
   ]
  },
  {
   "cell_type": "code",
   "execution_count": 15,
   "metadata": {},
   "outputs": [],
   "source": [
    "# Load and preprocess training data\n",
    "train_pneumonia_images, train_pneumonia_labels = load_and_preprocess_data(os.path.join(train_path, \"PNEUMONIA\"), 1)\n",
    "train_normal_images, train_normal_labels = load_and_preprocess_data(os.path.join(train_path, \"NORMAL\"), 0)\n",
    "\n",
    "# Combine pneumonia and normal data\n",
    "train_images = np.concatenate((train_pneumonia_images, train_normal_images), axis=0)\n",
    "train_labels = np.concatenate((train_pneumonia_labels, train_normal_labels), axis=0)\n",
    "\n",
    "# Split the dataset into train and validation sets\n",
    "train_images, val_images, train_labels, val_labels = train_test_split(train_images, train_labels, test_size=0.2, random_state=42)\n",
    "\n",
    "# Load and preprocess test data\n",
    "test_pneumonia_images, test_pneumonia_labels = load_and_preprocess_data(os.path.join(test_path, \"PNEUMONIA\"), 1)\n",
    "test_normal_images, test_normal_labels = load_and_preprocess_data(os.path.join(test_path, \"NORMAL\"), 0)\n",
    "\n",
    "# Combine pneumonia and normal test data\n",
    "test_images = np.concatenate((test_pneumonia_images, test_normal_images), axis=0)\n",
    "test_labels = np.concatenate((test_pneumonia_labels, test_normal_labels), axis=0)\n",
    "\n",
    "# Normalize pixel values to be between 0 and 1\n",
    "val_images, test_images = val_images / 255.0, test_images / 255.0"
   ]
  },
  {
   "cell_type": "code",
   "execution_count": 16,
   "metadata": {},
   "outputs": [],
   "source": [
    "# Create a generator to augment data (parameters from previous master thesis)\n",
    "train_datagen = ImageDataGenerator(\n",
    "    brightness_range=[0.8, 1.2],\n",
    "    zoom_range=[0.9, 1.1],\n",
    "    rotation_range=10,\n",
    "    width_shift_range=0.15,\n",
    "    height_shift_range=0.15,\n",
    "    horizontal_flip=True,\n",
    "    vertical_flip=True,\n",
    "    rescale=1./255\n",
    ")\n",
    "\n",
    "train_generator = train_datagen.flow(train_images, train_labels, batch_size=16)"
   ]
  },
  {
   "cell_type": "code",
   "execution_count": null,
   "metadata": {},
   "outputs": [],
   "source": [
    "# Build the own CNN model\n",
    "model = models.Sequential()\n",
    "model.add(layers.Conv2D(32, (3, 3), activation='relu', input_shape=(128, 128, 3)))\n",
    "model.add(layers.MaxPooling2D((2, 2)))\n",
    "model.add(layers.Conv2D(64, (3, 3), activation='relu'))\n",
    "model.add(layers.MaxPooling2D((2, 2)))\n",
    "model.add(layers.Conv2D(64, (3, 3), activation='relu'))\n",
    "model.add(layers.Flatten())\n",
    "model.add(layers.Dense(64, activation='relu'))\n",
    "model.add(layers.Dense(1, activation='sigmoid'))\n",
    "\n",
    "model.compile(optimizer='adam', loss='binary_crossentropy', metrics=['accuracy'])"
   ]
  },
  {
   "cell_type": "code",
   "execution_count": null,
   "metadata": {},
   "outputs": [],
   "source": [
    "history_own = model.fit(train_generator, epochs=100, validation_data=(val_images, val_labels))"
   ]
  },
  {
   "cell_type": "code",
   "execution_count": 26,
   "metadata": {},
   "outputs": [],
   "source": [
    "import matplotlib.pyplot as plt\n",
    "\n",
    "# Function to plot loss curves\n",
    "\n",
    "def plot_loss(history):\n",
    "    plt.plot(history.history['loss'], label='Training Loss')\n",
    "    plt.plot(history.history['val_loss'], label='Validation Loss')\n",
    "    plt.title('Training and Validation Loss')\n",
    "    plt.xlabel('Epoch')\n",
    "    plt.ylabel('Loss')\n",
    "    plt.grid()\n",
    "    plt.legend()\n",
    "    plt.show()"
   ]
  },
  {
   "cell_type": "code",
   "execution_count": null,
   "metadata": {},
   "outputs": [],
   "source": [
    "resnet50 = tf.keras.applications.ResNet50(\n",
    "    include_top=False, \n",
    "    weights=None, \n",
    "    input_shape=(128, 128, 3)\n",
    ")\n",
    "\n",
    "inputs = tf.keras.Input(shape=(128, 128, 3))\n",
    "x = resnet50(inputs)\n",
    "x = tf.keras.layers.GlobalAveragePooling2D()(x) \n",
    "x = tf.keras.layers.Dense(512, activation='relu')(x) \n",
    "outputs = tf.keras.layers.Dense(1, activation='sigmoid')(x)\n",
    "\n",
    "model_nt = tf.keras.Model(inputs, outputs)\n",
    "\n",
    "model_nt.compile(optimizer='adam',\n",
    "              loss='binary_crossentropy',\n",
    "              metrics=['accuracy'])\n",
    "\n",
    "model_nt.summary()"
   ]
  },
  {
   "cell_type": "code",
   "execution_count": null,
   "metadata": {},
   "outputs": [],
   "source": [
    "history_resnet_nt = model_nt.fit(train_generator, epochs=100, validation_data=(val_images, val_labels))"
   ]
  },
  {
   "cell_type": "code",
   "execution_count": null,
   "metadata": {},
   "outputs": [],
   "source": [
    "resnet50_pt = tf.keras.applications.ResNet50(\n",
    "    include_top=False, \n",
    "    weights='imagenet', \n",
    "    input_shape=(128, 128, 3)\n",
    ")\n",
    "\n",
    "for layer in resnet50_pt.layers:\n",
    "    layer.trainable = False\n",
    "\n",
    "inputs = tf.keras.Input(shape=(128, 128, 3))\n",
    "x = resnet50_pt(inputs, training=False)\n",
    "x = tf.keras.layers.GlobalAveragePooling2D()(x) \n",
    "x = tf.keras.layers.Dense(512, activation='relu')(x) \n",
    "outputs = tf.keras.layers.Dense(1, activation='sigmoid')(x) \n",
    "\n",
    "model_pt = tf.keras.Model(inputs, outputs)\n",
    "\n",
    "model_pt.compile(optimizer='adam',\n",
    "              loss='binary_crossentropy',\n",
    "              metrics=['accuracy'])\n",
    "\n",
    "model_pt.summary()"
   ]
  },
  {
   "cell_type": "code",
   "execution_count": null,
   "metadata": {},
   "outputs": [],
   "source": [
    "history_resnet_pt = model_pt.fit(train_generator, epochs=100, validation_data=(val_images, val_labels))"
   ]
  },
  {
   "cell_type": "code",
   "execution_count": null,
   "metadata": {},
   "outputs": [],
   "source": [
    "effnetB0_nt = tf.keras.applications.EfficientNetB0(\n",
    "    include_top=False, \n",
    "    weights=None,  \n",
    "    input_shape=(128, 128, 3)\n",
    ")\n",
    "\n",
    "inputs = tf.keras.Input(shape=(128, 128, 3))\n",
    "x = effnetB0_nt(inputs)\n",
    "x = tf.keras.layers.GlobalAveragePooling2D()(x) \n",
    "x = tf.keras.layers.Dense(512, activation='relu')(x) \n",
    "outputs = tf.keras.layers.Dense(1, activation='sigmoid')(x)\n",
    "\n",
    "model_eff_nt = tf.keras.Model(inputs, outputs)\n",
    "\n",
    "model_eff_nt.compile(optimizer='adam',\n",
    "              loss='binary_crossentropy',\n",
    "              metrics=['accuracy'])\n",
    "\n",
    "model_eff_nt.summary()"
   ]
  },
  {
   "cell_type": "code",
   "execution_count": null,
   "metadata": {},
   "outputs": [],
   "source": [
    "history_eff_nt = model_eff_nt.fit(train_generator, epochs=100, validation_data=(val_images, val_labels))"
   ]
  },
  {
   "cell_type": "code",
   "execution_count": null,
   "metadata": {},
   "outputs": [],
   "source": [
    "effnetB0_pt = tf.keras.applications.EfficientNetB0(\n",
    "    include_top=False, \n",
    "    weights='imagenet',\n",
    "    input_shape=(128, 128, 3)\n",
    ")\n",
    "\n",
    "for layer in effnetB0_pt.layers:\n",
    "    layer.trainable = False\n",
    "\n",
    "inputs = tf.keras.Input(shape=(128, 128, 3))\n",
    "x = effnetB0_pt(inputs)\n",
    "x = tf.keras.layers.GlobalAveragePooling2D()(x) \n",
    "x = tf.keras.layers.Dense(512, activation='relu')(x) \n",
    "outputs = tf.keras.layers.Dense(1, activation='sigmoid')(x)\n",
    "\n",
    "model_eff_pt = tf.keras.Model(inputs, outputs)\n",
    "\n",
    "model_eff_pt.compile(optimizer='adam',\n",
    "              loss='binary_crossentropy',\n",
    "              metrics=['accuracy'])\n",
    "\n",
    "model_eff_pt.summary()"
   ]
  },
  {
   "cell_type": "code",
   "execution_count": null,
   "metadata": {},
   "outputs": [],
   "source": [
    "history_eff_pt = model_eff_pt.fit(train_generator, epochs=100, validation_data=(val_images, val_labels))"
   ]
  },
  {
   "cell_type": "code",
   "execution_count": null,
   "metadata": {},
   "outputs": [],
   "source": [
    "plot_loss(history_own)\n",
    "plot_loss(history_resnet_pt)\n",
    "plot_loss(history_resnet_nt)\n",
    "plot_loss(history_eff_pt)\n",
    "plot_loss(history_eff_nt)"
   ]
  },
  {
   "cell_type": "code",
   "execution_count": null,
   "metadata": {},
   "outputs": [],
   "source": [
    "y_pred_own = model.predict(test_images)\n",
    "y_pred_res_pt = model_pt.predict(test_images)\n",
    "y_pred_res_nt = model_nt.predict(test_images)\n",
    "y_pred_eff_pt = model_eff_pt.predict(test_images)\n",
    "y_pred_eff_nt = model_eff_nt.predict(test_images)\n",
    "\n",
    "for i in range(len(test_labels)):\n",
    "    if y_pred_own[i] > 0.5:"
   ]
  }
 ],
 "metadata": {
  "kernelspec": {
   "display_name": "base",
   "language": "python",
   "name": "python3"
  },
  "language_info": {
   "codemirror_mode": {
    "name": "ipython",
    "version": 3
   },
   "file_extension": ".py",
   "mimetype": "text/x-python",
   "name": "python",
   "nbconvert_exporter": "python",
   "pygments_lexer": "ipython3",
   "version": "3.9.13"
  }
 },
 "nbformat": 4,
 "nbformat_minor": 2
}
